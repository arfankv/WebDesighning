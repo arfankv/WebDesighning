{
  "nbformat": 4,
  "nbformat_minor": 0,
  "metadata": {
    "colab": {
      "provenance": [],
      "authorship_tag": "ABX9TyPPpgvIqseiP19I/3ePYQ/e",
      "include_colab_link": true
    },
    "kernelspec": {
      "name": "python3",
      "display_name": "Python 3"
    },
    "language_info": {
      "name": "python"
    }
  },
  "cells": [
    {
      "cell_type": "markdown",
      "metadata": {
        "id": "view-in-github",
        "colab_type": "text"
      },
      "source": [
        "<a href=\"https://colab.research.google.com/github/arfankv/WebDesighning/blob/main/task%20of%20set.ipynb\" target=\"_parent\"><img src=\"https://colab.research.google.com/assets/colab-badge.svg\" alt=\"Open In Colab\"/></a>"
      ]
    },
    {
      "cell_type": "code",
      "execution_count": null,
      "metadata": {
        "id": "5_KQQzTaRxJh"
      },
      "outputs": [],
      "source": []
    },
    {
      "cell_type": "markdown",
      "source": [
        "Write a Python program to remove the intersection of a 2nd set from the 1st set\n"
      ],
      "metadata": {
        "id": "msvE4vRXR9CG"
      }
    },
    {
      "cell_type": "code",
      "source": [
        "set1={21,34,56,'name'}\n",
        "set2={'shop','job','name','item'}\n",
        "set1.difference_update(set2)\n",
        "print('',set1)\n",
        "print('',set2)"
      ],
      "metadata": {
        "colab": {
          "base_uri": "https://localhost:8080/"
        },
        "id": "D-2NH1TYSCd6",
        "outputId": "1e7309a2-d029-4eed-85f6-a53236924a87"
      },
      "execution_count": null,
      "outputs": [
        {
          "output_type": "stream",
          "name": "stdout",
          "text": [
            " {56, 34, 21}\n",
            " {'item', 'job', 'shop', 'name'}\n"
          ]
        }
      ]
    },
    {
      "cell_type": "markdown",
      "source": [
        "Write a Python program to remove an item from a set if it is present in the set"
      ],
      "metadata": {
        "id": "fOvhGtc5WQRT"
      }
    },
    {
      "cell_type": "code",
      "source": [
        "a={2,3,4}\n",
        "a.remove(3)\n",
        "print(a)"
      ],
      "metadata": {
        "colab": {
          "base_uri": "https://localhost:8080/"
        },
        "id": "sR5GdmDFWl_4",
        "outputId": "ca2f618b-d2a2-42ce-d873-0576a1e35e40"
      },
      "execution_count": null,
      "outputs": [
        {
          "output_type": "stream",
          "name": "stdout",
          "text": [
            "{2, 4}\n"
          ]
        }
      ]
    },
    {
      "cell_type": "markdown",
      "source": [
        "Write a Python program to create an intersection of sets"
      ],
      "metadata": {
        "id": "LFoSkS6EXWBl"
      }
    },
    {
      "cell_type": "code",
      "source": [
        "a={'book', 'paper', 'draw', 'dance'}\n",
        "b={'hike','tour','dance', 'work'}\n",
        "print(a.intersection(b))"
      ],
      "metadata": {
        "colab": {
          "base_uri": "https://localhost:8080/"
        },
        "id": "O1s0sLpIYVGy",
        "outputId": "3a9d2f89-a65d-4749-b18f-11d3bf5304e8"
      },
      "execution_count": null,
      "outputs": [
        {
          "output_type": "stream",
          "name": "stdout",
          "text": [
            "{'dance'}\n"
          ]
        }
      ]
    },
    {
      "cell_type": "code",
      "source": [],
      "metadata": {
        "id": "_j52NJ18XrUS"
      },
      "execution_count": null,
      "outputs": []
    }
  ]
}